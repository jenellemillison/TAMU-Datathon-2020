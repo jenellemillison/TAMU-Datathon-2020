{
 "cells": [
  {
   "cell_type": "code",
   "execution_count": 5,
   "metadata": {},
   "outputs": [],
   "source": [
    "import pandas as pd\n",
    "prices = pd.read_csv(\"price.csv\")\n",
    "unique_city_names = pd.read_csv(\"uniqueCities.csv\", names = [\"City\"])"
   ]
  },
  {
   "cell_type": "code",
   "execution_count": 7,
   "metadata": {},
   "outputs": [],
   "source": [
    "unique_city_names[\"City\"]\n",
    "prices_grouped = prices.groupby([\"City\"]).mean().filter(items=unique_city_names[\"City\"], axis=0)\n",
    "year_price = prices_grouped[[\"January 2016\", \"February 2016\", \"March 2016\", \"April 2016\", \"May 2016\", \"June 2016\", \"July 2016\", \"August 2016\", \"September 2016\", \"October 2016\", \"November 2016\", \"December 2016\"]].mean(axis=1)\n",
    "year_price.to_csv(\".\\processed_prices.csv\")"
   ]
  },
  {
   "cell_type": "code",
   "execution_count": 9,
   "metadata": {},
   "outputs": [],
   "source": [
    "prices = pd.read_csv(\".\\processed_prices.csv\")\n",
    "prices.columns = [\"City\", \"Avg Price\"]\n",
    "prices\n",
    "prices.to_csv(\".\\processed_prices.csv\", index = False)"
   ]
  },
  {
   "cell_type": "code",
   "execution_count": null,
   "metadata": {},
   "outputs": [],
   "source": []
  }
 ],
 "metadata": {
  "kernelspec": {
   "display_name": "Python 3",
   "language": "python",
   "name": "python3"
  },
  "language_info": {
   "codemirror_mode": {
    "name": "ipython",
    "version": 3
   },
   "file_extension": ".py",
   "mimetype": "text/x-python",
   "name": "python",
   "nbconvert_exporter": "python",
   "pygments_lexer": "ipython3",
   "version": "3.7.6"
  }
 },
 "nbformat": 4,
 "nbformat_minor": 4
}
