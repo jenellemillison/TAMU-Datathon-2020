{
 "cells": [
  {
   "cell_type": "code",
   "execution_count": 1,
   "metadata": {},
   "outputs": [
    {
     "name": "stderr",
     "output_type": "stream",
     "text": [
      "C:\\Users\\JAMil\\anaconda3\\lib\\site-packages\\IPython\\core\\interactiveshell.py:3063: DtypeWarning: Columns (2) have mixed types.Specify dtype option on import or set low_memory=False.\n",
      "  interactivity=interactivity, compiler=compiler, result=result)\n"
     ]
    }
   ],
   "source": [
    "import pandas as pd\n",
    "home_price = pd.read_csv(\"price.csv\")\n",
    "quality_of_life = pd.read_csv(\"movehubqualityoflife.csv\")\n",
    "temp = pd.read_csv(\"city_temperature.csv\")\n",
    "cost_of_living = pd.read_csv(\"movehubcostofliving.csv\")"
   ]
  },
  {
   "cell_type": "code",
   "execution_count": 2,
   "metadata": {},
   "outputs": [
    {
     "data": {
      "text/plain": [
       "0      Los Angeles\n",
       "1          Chicago\n",
       "2          Houston\n",
       "3          Houston\n",
       "4          Houston\n",
       "          ...     \n",
       "150          Perth\n",
       "151      Stockholm\n",
       "152       Montreal\n",
       "153      Amsterdam\n",
       "154         Manila\n",
       "Name: City, Length: 155, dtype: object"
      ]
     },
     "execution_count": 2,
     "metadata": {},
     "output_type": "execute_result"
    }
   ],
   "source": [
    "price_and_quality = pd.merge(home_price, quality_of_life, on=\"City\")\n",
    "price_and_quality_and_living = pd.merge(price_and_quality, cost_of_living, on=\"City\")\n",
    "temperatures = temp.groupby([\"City\"]).mean()\n",
    "all_data = pd.merge(price_and_quality_and_living, temperatures, on=\"City\")\n",
    "unique_cities = all_data[\"City\"]\n",
    "unique_cities\n",
    "#all_data.to_csv(\"./to_be_processed_merged.csv\")"
   ]
  },
  {
   "cell_type": "code",
   "execution_count": 5,
   "metadata": {},
   "outputs": [],
   "source": [
    "##WAY 2\n",
    "temperatures = temp.groupby([\"City\"]).mean()\n",
    "quality_price = quality_of_life.loc[quality_of_life[\"City\"].isin(home_price[\"City\"]),:]\n",
    "quality_price_cost = quality_price.loc[quality_price[\"City\"].isin(cost_of_living[\"City\"]),:]\n",
    "#all_data_avail = quality_price_cost.loc[quality_price_cost[\"City\"].isin(temperatures[\"City\"]),:]\n",
    "quality_price_cost.to_csv(\"./uniqueCities.csv\")"
   ]
  }
 ],
 "metadata": {
  "kernelspec": {
   "display_name": "Python 3",
   "language": "python",
   "name": "python3"
  },
  "language_info": {
   "codemirror_mode": {
    "name": "ipython",
    "version": 3
   },
   "file_extension": ".py",
   "mimetype": "text/x-python",
   "name": "python",
   "nbconvert_exporter": "python",
   "pygments_lexer": "ipython3",
   "version": "3.7.6"
  }
 },
 "nbformat": 4,
 "nbformat_minor": 4
}
