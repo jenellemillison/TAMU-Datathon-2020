{
 "cells": [
  {
   "cell_type": "code",
   "execution_count": 5,
   "metadata": {},
   "outputs": [],
   "source": [
    "import pandas as pd\n",
    "unique_city_names = pd.read_csv(\"uniqueCities.csv\", names = [\"City\"])\n",
    "temp = pd.read_csv(\"city_temperature.csv\")"
   ]
  },
  {
   "cell_type": "code",
   "execution_count": 7,
   "metadata": {},
   "outputs": [],
   "source": [
    "unique_city_names[\"City\"]\n",
    "temperatures = temp.groupby([\"City\"]).mean().filter(items=unique_city_names[\"City\"], axis=0)\n",
    "avg_temp = temperatures[[\"AvgTemperature\"]]\n",
    "avg_temp.to_csv(r'.\\processed_temps.csv')"
   ]
  }
 ],
 "metadata": {
  "kernelspec": {
   "display_name": "Python 3",
   "language": "python",
   "name": "python3"
  },
  "language_info": {
   "codemirror_mode": {
    "name": "ipython",
    "version": 3
   },
   "file_extension": ".py",
   "mimetype": "text/x-python",
   "name": "python",
   "nbconvert_exporter": "python",
   "pygments_lexer": "ipython3",
   "version": "3.7.6"
  }
 },
 "nbformat": 4,
 "nbformat_minor": 4
}
