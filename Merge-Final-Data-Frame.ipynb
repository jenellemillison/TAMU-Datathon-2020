{
 "cells": [
  {
   "cell_type": "code",
   "execution_count": 3,
   "metadata": {},
   "outputs": [],
   "source": [
    "import pandas as pd\n",
    "temps = pd.read_csv(\"processed_temps.csv\")\n",
    "prices = pd.read_csv(\"processed_prices.csv\")\n",
    "quality = pd.read_csv(\"processed_quality_rating.csv\")\n",
    "cost = pd.read_csv(\"processed_cost_rating.csv\")\n",
    "\n",
    "final_data = pd.merge(temps, prices, on=\"City\")\n",
    "final_data = pd.merge(final_data, cost, on=\"City\")\n",
    "final_data = pd.merge(final_data, quality, on=\"City\")\n",
    "final_data\n",
    "final_data.to_csv(\".\\merged_city_data.csv\", index = False)"
   ]
  },
  {
   "cell_type": "code",
   "execution_count": null,
   "metadata": {},
   "outputs": [],
   "source": []
  }
 ],
 "metadata": {
  "kernelspec": {
   "display_name": "Python 3",
   "language": "python",
   "name": "python3"
  },
  "language_info": {
   "codemirror_mode": {
    "name": "ipython",
    "version": 3
   },
   "file_extension": ".py",
   "mimetype": "text/x-python",
   "name": "python",
   "nbconvert_exporter": "python",
   "pygments_lexer": "ipython3",
   "version": "3.7.6"
  }
 },
 "nbformat": 4,
 "nbformat_minor": 4
}
